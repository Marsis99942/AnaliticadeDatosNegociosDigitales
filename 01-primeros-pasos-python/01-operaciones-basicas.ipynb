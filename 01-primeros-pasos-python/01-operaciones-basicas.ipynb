{
 "cells": [
  {
   "cell_type": "code",
   "execution_count": null,
   "id": "06e8887d",
   "metadata": {},
   "outputs": [
    {
     "ename": "",
     "evalue": "",
     "output_type": "error",
     "traceback": [
      "\u001b[1;31mRunning cells with 'Python 3.13.1' requires the ipykernel package.\n",
      "\u001b[1;31m<a href='command:jupyter.createPythonEnvAndSelectController'>Create a Python Environment</a> with the required packages.\n",
      "\u001b[1;31mOr install 'ipykernel' using the command: 'c:/Users/jhoan/AppData/Local/Programs/Python/Python313/python.exe -m pip install ipykernel -U --user --force-reinstall'"
     ]
    }
   ],
   "source": [
    "# Declaracion de variables y tipos\n",
    "\n",
    "a = 1 # Variable de tipo int \n",
    "b = 2.3 # Variable de tipo flotante\n",
    "c = True # Variable de tipo boolean \n",
    "d = False  # Variable de tipo boolean \n",
    "e = \"Hola mundo\" # Variable de tipo Cadena\n",
    "f = 'Hola Negocios Digitales' # Variable de tipo Cadena\n"
   ]
  },
  {
   "cell_type": "markdown",
   "id": "85a975fa",
   "metadata": {},
   "source": []
  },
  {
   "cell_type": "markdown",
   "id": "2a52ef96",
   "metadata": {},
   "source": [
    "# Operaciones basicas en python "
   ]
  },
  {
   "cell_type": "markdown",
   "id": "ffd69749",
   "metadata": {},
   "source": [
    "## Declaracion y asignacion de datos \n",
    "\n",
    "**Se describen los tipos de datos existentes en python y la forma de imprimirlos**"
   ]
  }
 ],
 "metadata": {
  "kernelspec": {
   "display_name": "Python 3",
   "language": "python",
   "name": "python3"
  },
  "language_info": {
   "name": "python",
   "version": "3.13.1"
  }
 },
 "nbformat": 4,
 "nbformat_minor": 5
}
