{
 "cells": [
  {
   "cell_type": "markdown",
   "id": "ed5da7b5",
   "metadata": {},
   "source": [
    "# Ejemplo 1 : Esto es un notebook de Practica \n",
    "\n",
    "---\n",
    "\n",
    "### 1. Objetivos \n",
    "    -Repasar rapidamente como funciona un jupyter Notebook \n",
    "\n",
    "### 2. Requisitos: \n",
    "    -Jupyter Notebook instalado "
   ]
  },
  {
   "cell_type": "markdown",
   "id": "8677e9c5",
   "metadata": {},
   "source": [
    "En JN tenemos `modo comando ` y `modo edicion`.\n",
    "\n",
    "- El `modo edicion` sirve para editar celdas \n",
    "- El `modo comando` sirve para usar comandos en el JN \n"
   ]
  },
  {
   "cell_type": "markdown",
   "id": "dfa4d945",
   "metadata": {},
   "source": [
    "Esto es una celda Markdown"
   ]
  },
  {
   "cell_type": "code",
   "execution_count": null,
   "id": "afdb758b",
   "metadata": {},
   "outputs": [],
   "source": [
    "# Esto es una celda de codigo \n",
    "# y yo soy un comentario.."
   ]
  },
  {
   "cell_type": "markdown",
   "id": "58b8c2d2",
   "metadata": {},
   "source": [
    "Escribamos algo de codigo para recordar:"
   ]
  },
  {
   "cell_type": "code",
   "execution_count": 1,
   "id": "1ad21541",
   "metadata": {},
   "outputs": [
    {
     "data": {
      "text/plain": [
       "9"
      ]
     },
     "execution_count": 1,
     "metadata": {},
     "output_type": "execute_result"
    }
   ],
   "source": [
    "var_1 = 4 \n",
    "var_2= 5 \n",
    "\n",
    "var_1 + var_2"
   ]
  },
  {
   "cell_type": "code",
   "execution_count": 2,
   "id": "20e85562",
   "metadata": {},
   "outputs": [
    {
     "name": "stdout",
     "output_type": "stream",
     "text": [
      "4 5\n"
     ]
    }
   ],
   "source": [
    "print(var_1, var_2)"
   ]
  },
  {
   "cell_type": "code",
   "execution_count": 3,
   "id": "a596aa69",
   "metadata": {},
   "outputs": [
    {
     "name": "stdout",
     "output_type": "stream",
     "text": [
      "4,5\n"
     ]
    }
   ],
   "source": [
    "print(str(var_1) + ',' + str(var_2))"
   ]
  },
  {
   "cell_type": "code",
   "execution_count": 5,
   "id": "7cce126c",
   "metadata": {},
   "outputs": [
    {
     "name": "stdout",
     "output_type": "stream",
     "text": [
      "9\n"
     ]
    }
   ],
   "source": [
    "print (var_1 + var_2)"
   ]
  },
  {
   "cell_type": "code",
   "execution_count": 6,
   "id": "24969a3f",
   "metadata": {},
   "outputs": [
    {
     "data": {
      "text/plain": [
       "15"
      ]
     },
     "execution_count": 6,
     "metadata": {},
     "output_type": "execute_result"
    }
   ],
   "source": [
    "var_1 = 10 \n",
    "var_1 + var_2"
   ]
  },
  {
   "cell_type": "code",
   "execution_count": null,
   "id": "bf777972",
   "metadata": {},
   "outputs": [],
   "source": []
  }
 ],
 "metadata": {
  "kernelspec": {
   "display_name": ".venv",
   "language": "python",
   "name": "python3"
  },
  "language_info": {
   "codemirror_mode": {
    "name": "ipython",
    "version": 3
   },
   "file_extension": ".py",
   "mimetype": "text/x-python",
   "name": "python",
   "nbconvert_exporter": "python",
   "pygments_lexer": "ipython3",
   "version": "3.13.1"
  }
 },
 "nbformat": 4,
 "nbformat_minor": 5
}
