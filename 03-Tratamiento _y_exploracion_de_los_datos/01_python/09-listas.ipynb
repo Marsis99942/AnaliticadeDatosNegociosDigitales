{
 "cells": [
  {
   "cell_type": "markdown",
   "id": "4f633bc5",
   "metadata": {},
   "source": [
    "# Listas\n",
    "1. Objetivos \n",
    "\n",
    "- Entender la sintaxis de las listas en python \n",
    "- Aprender a crear listas y accesarlas\n",
    "\n",
    "---\n",
    "\n",
    "2. Desarrollo:\n"
   ]
  },
  {
   "cell_type": "markdown",
   "id": "94301750",
   "metadata": {},
   "source": [
    "### Creando listas y accediendo a ellas \n",
    "\n",
    "Las listas son secuencias ordenadas. El orden de los datos en la lista es el mismo orden que tiene los datos a\n",
    "la hora de ser asignados. Una lista se ve asi: "
   ]
  },
  {
   "cell_type": "code",
   "execution_count": 2,
   "id": "b75f5a2f",
   "metadata": {},
   "outputs": [
    {
     "data": {
      "text/plain": [
       "[1, 4, 6, 2, 4]"
      ]
     },
     "execution_count": 2,
     "metadata": {},
     "output_type": "execute_result"
    }
   ],
   "source": [
    "#Lista de enteros \n",
    "lista_1 = [1,4,6,2,4]\n",
    "lista_1"
   ]
  },
  {
   "cell_type": "code",
   "execution_count": 3,
   "id": "479ee05b",
   "metadata": {},
   "outputs": [
    {
     "data": {
      "text/plain": [
       "list"
      ]
     },
     "execution_count": 3,
     "metadata": {},
     "output_type": "execute_result"
    }
   ],
   "source": [
    "type(lista_1)"
   ]
  },
  {
   "cell_type": "markdown",
   "id": "879a9262",
   "metadata": {},
   "source": [
    "Cada elemento de la lista tiene un indice, que se utiliza para acceder a dicho elemento. Dado que las listas son ordenadas, los indices se van asignando secuencialmente desde el primer elemento hasta el ultimo. El primer indice es siempre '0', y por lo tanto el ultimo indice es siempre n-1, donde n es el numero total de elementos en la lista. "
   ]
  },
  {
   "cell_type": "code",
   "execution_count": 4,
   "id": "0cbb097f",
   "metadata": {},
   "outputs": [
    {
     "name": "stdout",
     "output_type": "stream",
     "text": [
      "Primer elemento de la lista: 1\n",
      "El ultimo elemento de la lista: 4\n"
     ]
    }
   ],
   "source": [
    "#Imprimir el primer elemento de la lista\n",
    "print(f'Primer elemento de la lista: {lista_1[0]}')\n",
    "print(f'El ultimo elemento de la lista: {lista_1[4]}')\n",
    "\n"
   ]
  },
  {
   "cell_type": "code",
   "execution_count": 5,
   "id": "7f1b40c2",
   "metadata": {},
   "outputs": [
    {
     "ename": "NameError",
     "evalue": "name 'Lista_1' is not defined",
     "output_type": "error",
     "traceback": [
      "\u001b[31m---------------------------------------------------------------------------\u001b[39m",
      "\u001b[31mNameError\u001b[39m                                 Traceback (most recent call last)",
      "\u001b[36mCell\u001b[39m\u001b[36m \u001b[39m\u001b[32mIn[5]\u001b[39m\u001b[32m, line 1\u001b[39m\n\u001b[32m----> \u001b[39m\u001b[32m1\u001b[39m \u001b[43mLista_1\u001b[49m[\u001b[32m5\u001b[39m]\n",
      "\u001b[31mNameError\u001b[39m: name 'Lista_1' is not defined"
     ]
    }
   ],
   "source": [
    "Lista_1[5]\n"
   ]
  },
  {
   "cell_type": "code",
   "execution_count": null,
   "id": "2bc9d8d9",
   "metadata": {},
   "outputs": [],
   "source": []
  },
  {
   "cell_type": "markdown",
   "id": "d911a376",
   "metadata": {},
   "source": [
    "Eliminando Elementos de la lista pueden ser eliminado en cualquier momento -"
   ]
  },
  {
   "cell_type": "code",
   "execution_count": 6,
   "id": "12f03ffa",
   "metadata": {},
   "outputs": [],
   "source": [
    "lista_prueba = [1,2,4,6,2,11,2]"
   ]
  },
  {
   "cell_type": "code",
   "execution_count": null,
   "id": "f65faf71",
   "metadata": {},
   "outputs": [],
   "source": [
    "def eliminar (valor)"
   ]
  },
  {
   "cell_type": "markdown",
   "id": "211d867c",
   "metadata": {},
   "source": [
    "### Los indices Negativos son legales\n",
    "\n",
    "Un elemento con indice igual a -1 es el ultimo en la lista"
   ]
  },
  {
   "cell_type": "code",
   "execution_count": 10,
   "id": "9ccdefe2",
   "metadata": {},
   "outputs": [
    {
     "name": "stdout",
     "output_type": "stream",
     "text": [
      "el ultimo valor de la lista es: 111\n"
     ]
    }
   ],
   "source": [
    "numbers_2 =[111,7,2,1]\n",
    "print(f'el ultimo valor de la lista es: {numbers_2[-4]}')"
   ]
  },
  {
   "cell_type": "code",
   "execution_count": 11,
   "id": "34a5b3dc",
   "metadata": {},
   "outputs": [],
   "source": [
    "## Ejercicio de listas 1\n"
   ]
  },
  {
   "cell_type": "code",
   "execution_count": 12,
   "id": "edfe0de1",
   "metadata": {},
   "outputs": [
    {
     "name": "stdout",
     "output_type": "stream",
     "text": [
      "[1, 2, 3, 4, 5]\n"
     ]
    }
   ],
   "source": [
    "## Ejercicio de Listas \n",
    "\n",
    "hat_list = [1, 2, 3, 4, 5]  # Esta es una lista existente de números ocultos en el sombrero.\n",
    "\n",
    "# Paso 1: escribe una línea de código que solicite al usuario\n",
    "# reemplazar el número de en medio con un número entero ingresado por el usuario.\n",
    "\n",
    "# Paso 2: escribe aquí una línea de código que elimine el último elemento de la lista.\n",
    "\n",
    "# Paso 3: escribe aquí una línea de código que imprima la longitud de la lista existente.\n",
    "\n",
    "print(hat_list)"
   ]
  },
  {
   "cell_type": "markdown",
   "id": "28a5f731",
   "metadata": {},
   "source": [
    "\n",
    "## Agregando elementos a una lista: append() e insert()\n",
    "\n",
    "Un nuevo elemento puede ser añadido al final de la lista existente:\n",
    "`list.append(value)`\n",
    "\n",
    "El metodo `insert()` es un poco mas inteligente, puede agregar un nuevo valor o elemento en cualquier lugar de la lista, no solo al final.\n",
    "\n",
    "`list.insert(location, value)`\n",
    "\n",
    "Toma dos argumentos:\n",
    "\n",
    "- el primero muestra la ubicación requerida del elemento a insertar; nota: todos los elementos existentes que ocupan ubicaciones a la derecha del nuevo elemento (incluido el que está en la posición indicada) se desplazan a la derecha, para hacer espacio para el nuevo elemento;\n",
    "-  el segundo es el elemento a insertar."
   ]
  },
  {
   "cell_type": "code",
   "execution_count": null,
   "id": "407277d6",
   "metadata": {},
   "outputs": [
    {
     "name": "stdout",
     "output_type": "stream",
     "text": [
      "la lista original es: [123, 8, 4, 1]\n",
      "el tamano de la lista es: 4\n",
      "la lista despues de agregar al final es: [123, 8, 4, 1, 10]\n",
      "el tamano de la lista es: 5\n"
     ]
    }
   ],
   "source": [
    "numbers_3 =[123,8,4,1]\n",
    "print(f'la lista original es: {numbers_3}')\n",
    "print(f'el tamano de la lista es: {len (numbers_3)}')\n",
    "\n",
    "#Agregar un valor al final de la lista con el metodo append \n",
    "numbers_3.append(10)\n",
    "print(f'la lista despues de agregar al final es: {numbers_3}')\n",
    "print(f'el tamano de la lista es: {len (numbers_3)}')\n",
    "\n"
   ]
  },
  {
   "cell_type": "code",
   "execution_count": 14,
   "id": "8d5dd39f",
   "metadata": {},
   "outputs": [
    {
     "name": "stdout",
     "output_type": "stream",
     "text": [
      "la lista actual es: [123, 8, 4, 1, 10]\n",
      "el tamano de la lista es: 5\n",
      "la lista actual es: [222, 123, 8, 4, 1, 10]\n",
      "el tamano de la lista es: 6\n"
     ]
    }
   ],
   "source": [
    "## Metodo insert \n",
    "\n",
    "print(f'la lista actual es: {numbers_3}')\n",
    "print(f'el tamano de la lista es: {len (numbers_3)}')\n",
    "\n",
    "numbers_3.insert( 0,222)\n",
    "print(f'la lista actual es: {numbers_3}')\n",
    "print(f'el tamano de la lista es: {len (numbers_3)}')"
   ]
  },
  {
   "cell_type": "code",
   "execution_count": 22,
   "id": "2b5f4c7c",
   "metadata": {},
   "outputs": [],
   "source": [
    "def llenar_lista_append (valor):\n",
    "    my_list =[] # Crea lista vacia \n",
    "\n",
    "    for i in range( valor):\n",
    "        my_list.append(i+1)\n",
    "\n",
    "    return (my_list)\n"
   ]
  },
  {
   "cell_type": "code",
   "execution_count": 23,
   "id": "adbf7451",
   "metadata": {},
   "outputs": [],
   "source": [
    "def imprimir_lista (lista):\n",
    "    print(f'La lista es: {lista}')\n"
   ]
  },
  {
   "cell_type": "code",
   "execution_count": 24,
   "id": "1a4bbb48",
   "metadata": {},
   "outputs": [
    {
     "name": "stdout",
     "output_type": "stream",
     "text": [
      "La lista es: [1, 2, 3, 4, 5, 6, 7, 8, 9, 10]\n"
     ]
    }
   ],
   "source": [
    "lista= llenar_lista_append (10)\n",
    "imprimir_lista(lista)"
   ]
  },
  {
   "cell_type": "code",
   "execution_count": 25,
   "id": "e48c2389",
   "metadata": {},
   "outputs": [
    {
     "name": "stdout",
     "output_type": "stream",
     "text": [
      "[5, 4, 3, 2, 1]\n"
     ]
    }
   ],
   "source": [
    "my_list = []\n",
    "\n",
    "for i in range (5):\n",
    "    my_list.insert(0, i+1)\n",
    "\n",
    "print(my_list)"
   ]
  },
  {
   "cell_type": "code",
   "execution_count": 26,
   "id": "249d28bb",
   "metadata": {},
   "outputs": [
    {
     "name": "stdout",
     "output_type": "stream",
     "text": [
      "10\n",
      "1\n",
      "8\n",
      "3\n",
      "5\n"
     ]
    }
   ],
   "source": [
    "# Recorrer la lista con un ciclo\n",
    "mi_lista = [10,1,8,3,5]\n",
    "\n",
    "for i in mi_lista:\n",
    "    print(i)"
   ]
  },
  {
   "cell_type": "code",
   "execution_count": 27,
   "id": "3c0124de",
   "metadata": {},
   "outputs": [
    {
     "name": "stdout",
     "output_type": "stream",
     "text": [
      "la suma de los valores de la lista es5\n"
     ]
    }
   ],
   "source": [
    "# Sumar los valores de la lista\n",
    "total= 0 \n",
    "\n",
    "for i in mi_lista:\n",
    "    total+=1\n",
    "\n",
    "print(f'la suma de los valores de la lista es{total}')"
   ]
  },
  {
   "cell_type": "code",
   "execution_count": null,
   "id": "f91be2d6",
   "metadata": {},
   "outputs": [],
   "source": []
  },
  {
   "cell_type": "code",
   "execution_count": 33,
   "id": "6cad77dd",
   "metadata": {},
   "outputs": [],
   "source": [
    "def guardar_calificaciones ( numero ):\n",
    "    lista_calificaciones = []\n",
    "    i = 1\n",
    "\n",
    "    while i<=numero:\n",
    "          calificacion = float(input(f'Solicita la calificacion {i}'))\n",
    "          lista_calificaciones.append(calificacion)\n",
    "          i+=1\n",
    "\n",
    "          return lista_calificaciones\n",
    "\n"
   ]
  },
  {
   "cell_type": "code",
   "execution_count": 34,
   "id": "2335ab6b",
   "metadata": {},
   "outputs": [],
   "source": [
    "def guardar_calificaciones_2 ( numero ):\n",
    "    lista_calificaciones = []\n",
    "    i = 1\n",
    "\n",
    "    for i in range(numero):\n",
    "          calificacion = float(input(f'Solicita la calificacion {i} '))\n",
    "          lista_calificaciones.append(calificacion)\n",
    "\n",
    "          return lista_calificaciones"
   ]
  },
  {
   "cell_type": "code",
   "execution_count": 35,
   "id": "e9a14c27",
   "metadata": {},
   "outputs": [
    {
     "name": "stdout",
     "output_type": "stream",
     "text": [
      "[9.9]\n"
     ]
    }
   ],
   "source": [
    "lista = guardar_calificaciones_2 (3)\n",
    "print(lista)"
   ]
  },
  {
   "cell_type": "code",
   "execution_count": null,
   "id": "21308de1",
   "metadata": {},
   "outputs": [],
   "source": [
    "## si "
   ]
  }
 ],
 "metadata": {
  "kernelspec": {
   "display_name": "Python 3",
   "language": "python",
   "name": "python3"
  },
  "language_info": {
   "codemirror_mode": {
    "name": "ipython",
    "version": 3
   },
   "file_extension": ".py",
   "mimetype": "text/x-python",
   "name": "python",
   "nbconvert_exporter": "python",
   "pygments_lexer": "ipython3",
   "version": "3.13.1"
  }
 },
 "nbformat": 4,
 "nbformat_minor": 5
}
