{
 "cells": [
  {
   "cell_type": "markdown",
   "id": "79f08790",
   "metadata": {},
   "source": [
    "## Operaciones con Listas "
   ]
  },
  {
   "cell_type": "markdown",
   "id": "241114ae",
   "metadata": {},
   "source": [
    "# Copiar una lista a otra "
   ]
  },
  {
   "cell_type": "code",
   "execution_count": null,
   "id": "322fd163",
   "metadata": {},
   "outputs": [
    {
     "name": "stdout",
     "output_type": "stream",
     "text": [
      "lista 1: [1]\n",
      "Lista 2: [1]\n"
     ]
    }
   ],
   "source": [
    "# Forma incorrecta de copiar una lista\n",
    "lista_1 = [1]\n",
    "lista_2 = lista_1\n",
    "\n",
    "print(f'lista 1: {lista_1}\\nLista 2: {lista_2}')"
   ]
  },
  {
   "cell_type": "code",
   "execution_count": 2,
   "id": "5ab979d7",
   "metadata": {},
   "outputs": [
    {
     "name": "stdout",
     "output_type": "stream",
     "text": [
      "[1, 10]\n"
     ]
    }
   ],
   "source": [
    "lista_2.append(10)\n",
    "print (lista_2)\n"
   ]
  },
  {
   "cell_type": "markdown",
   "id": "aa7fba8d",
   "metadata": {},
   "source": [
    "## Slicing o Rebanadas "
   ]
  },
  {
   "cell_type": "code",
   "execution_count": 6,
   "id": "539ebbf4",
   "metadata": {},
   "outputs": [
    {
     "data": {
      "text/plain": [
       "[3, 4, 5, 6, 7, 8]"
      ]
     },
     "execution_count": 6,
     "metadata": {},
     "output_type": "execute_result"
    }
   ],
   "source": [
    "list_1 = [3,4,5,6,7,8]\n",
    "list_1 [:]"
   ]
  },
  {
   "cell_type": "code",
   "execution_count": 7,
   "id": "7baab13a",
   "metadata": {},
   "outputs": [
    {
     "data": {
      "text/plain": [
       "[3, 4, 5, 6, 7, 8, 11]"
      ]
     },
     "execution_count": 7,
     "metadata": {},
     "output_type": "execute_result"
    }
   ],
   "source": [
    "# Forma Correcta \n",
    "list_2 = list_1[:]\n",
    "list_2.append(11)\n",
    "list_2"
   ]
  },
  {
   "cell_type": "code",
   "execution_count": 8,
   "id": "fadade78",
   "metadata": {},
   "outputs": [
    {
     "data": {
      "text/plain": [
       "[3, 4, 5, 6, 7, 8]"
      ]
     },
     "execution_count": 8,
     "metadata": {},
     "output_type": "execute_result"
    }
   ],
   "source": [
    "list_1"
   ]
  },
  {
   "cell_type": "code",
   "execution_count": 11,
   "id": "5835ef63",
   "metadata": {},
   "outputs": [
    {
     "name": "stdout",
     "output_type": "stream",
     "text": [
      "[4, 6, 7, 9, 12]\n"
     ]
    }
   ],
   "source": [
    "x= [4,6,7,9,12]\n",
    "y=[]\n",
    "\n",
    "y= x.copy()\n",
    "\n",
    "print(y)\n"
   ]
  },
  {
   "cell_type": "markdown",
   "id": "1120cc11",
   "metadata": {},
   "source": [
    "### Slicing o Rebanadas -Indices negativos \n",
    "\n",
    "Observa el fragmento de codigo a continuacion:\n",
    "\n",
    "`my_list[start:end]`\n",
    "\n",
    "para confirmar:\n",
    "1. **start** es el indice del primer elemento incluido en la rebanada \n",
    "2. **end** es el indice del primer elemento no incluido en la rebanada"
   ]
  },
  {
   "cell_type": "code",
   "execution_count": null,
   "id": "9bdff8a4",
   "metadata": {},
   "outputs": [
    {
     "ename": "NameError",
     "evalue": "name 'lista' is not defined",
     "output_type": "error",
     "traceback": [
      "\u001b[31m---------------------------------------------------------------------------\u001b[39m",
      "\u001b[31mNameError\u001b[39m                                 Traceback (most recent call last)",
      "\u001b[36mCell\u001b[39m\u001b[36m \u001b[39m\u001b[32mIn[10]\u001b[39m\u001b[32m, line 2\u001b[39m\n\u001b[32m      1\u001b[39m my_list = [\u001b[32m10\u001b[39m, \u001b[32m8\u001b[39m, \u001b[32m6\u001b[39m, \u001b[32m4\u001b[39m, \u001b[32m2\u001b[39m]\n\u001b[32m----> \u001b[39m\u001b[32m2\u001b[39m \u001b[43mlista\u001b[49m[\u001b[32m0\u001b[39m:\u001b[32m2\u001b[39m]\n",
      "\u001b[31mNameError\u001b[39m: name 'lista' is not defined"
     ]
    }
   ],
   "source": [
    "my_list = [10, 8, 6, 4, 2]\n",
    "lista[0:2]"
   ]
  },
  {
   "cell_type": "code",
   "execution_count": null,
   "id": "536d3ffc",
   "metadata": {},
   "outputs": [],
   "source": [
    "lista2=lista[0:]"
   ]
  },
  {
   "cell_type": "code",
   "execution_count": null,
   "id": "1aaf6a5d",
   "metadata": {},
   "outputs": [],
   "source": [
    "lista[2: -1]"
   ]
  },
  {
   "cell_type": "code",
   "execution_count": null,
   "id": "f1ac84b0",
   "metadata": {},
   "outputs": [],
   "source": [
    "lista[1:]"
   ]
  },
  {
   "cell_type": "code",
   "execution_count": 12,
   "id": "9f746860",
   "metadata": {},
   "outputs": [
    {
     "data": {
      "text/plain": [
       "[10, 4, 2]"
      ]
     },
     "execution_count": 12,
     "metadata": {},
     "output_type": "execute_result"
    }
   ],
   "source": [
    "# Dada la lista [10,8,6,4,2] eliminar los numeros 8 y 6 \n",
    "\n",
    "lista_3 = [10,8,6,4,2]\n",
    "\n",
    "del lista_3[1:3]\n",
    "\n",
    "lista_3"
   ]
  },
  {
   "cell_type": "markdown",
   "id": "a32d199c",
   "metadata": {},
   "source": [
    "### `pop` remueve el ultimo elemento de la lista si se llama sin argumentos"
   ]
  },
  {
   "cell_type": "code",
   "execution_count": 13,
   "id": "c20a8b55",
   "metadata": {},
   "outputs": [
    {
     "data": {
      "text/plain": [
       "[10, 4]"
      ]
     },
     "execution_count": 13,
     "metadata": {},
     "output_type": "execute_result"
    }
   ],
   "source": [
    "lista_3.pop()\n",
    "lista_3"
   ]
  },
  {
   "cell_type": "code",
   "execution_count": 14,
   "id": "377e051f",
   "metadata": {},
   "outputs": [],
   "source": [
    "lista_3.append(7)\n",
    "lista_3.append(5)\n",
    "lista_3.append(9)\n",
    "lista_3.append(11)\n",
    "lista_3.append(5)\n"
   ]
  },
  {
   "cell_type": "code",
   "execution_count": 15,
   "id": "1aba7eb2",
   "metadata": {},
   "outputs": [
    {
     "data": {
      "text/plain": [
       "[10, 4, 7, 5, 9, 11, 5]"
      ]
     },
     "execution_count": 15,
     "metadata": {},
     "output_type": "execute_result"
    }
   ],
   "source": [
    "lista_3"
   ]
  },
  {
   "cell_type": "code",
   "execution_count": 16,
   "id": "fe475d71",
   "metadata": {},
   "outputs": [
    {
     "data": {
      "text/plain": [
       "[10, 7, 5, 9, 11, 5]"
      ]
     },
     "execution_count": 16,
     "metadata": {},
     "output_type": "execute_result"
    }
   ],
   "source": [
    "lista_3.pop(1)\n",
    "lista_3"
   ]
  },
  {
   "cell_type": "code",
   "execution_count": 17,
   "id": "043557f5",
   "metadata": {},
   "outputs": [
    {
     "name": "stdout",
     "output_type": "stream",
     "text": [
      "['a', 12, True]\n",
      "<class 'list'>\n"
     ]
    }
   ],
   "source": [
    "lista_example = [\"a\", 12, True]\n",
    "print(lista_example)\n",
    "print(type(lista_example))"
   ]
  },
  {
   "cell_type": "code",
   "execution_count": 18,
   "id": "3ad5a99f",
   "metadata": {},
   "outputs": [
    {
     "name": "stdout",
     "output_type": "stream",
     "text": [
      "[['hallway', 100], ['kitchen', 85]]\n",
      "<class 'list'>\n"
     ]
    }
   ],
   "source": [
    "# Lista de listas\n",
    "\n",
    "list_house = [['hallway', 100], ['kitchen', 85]]\n",
    "print(list_house)\n",
    "print(type(list_house))"
   ]
  },
  {
   "cell_type": "code",
   "execution_count": null,
   "id": "115a490e",
   "metadata": {},
   "outputs": [
    {
     "data": {
      "text/plain": [
       "100"
      ]
     },
     "execution_count": 22,
     "metadata": {},
     "output_type": "execute_result"
    }
   ],
   "source": [
    "# Tiene acceso a la lista en la posicion 0 y su elemneto en la posicion 1\n",
    "list_house[0][1]"
   ]
  },
  {
   "cell_type": "code",
   "execution_count": 31,
   "id": "de4bd021",
   "metadata": {},
   "outputs": [
    {
     "name": "stdout",
     "output_type": "stream",
     "text": [
      "['heydy', 22, 'ines', 54, 'henry', 33, 'oscar', 38]\n"
     ]
    }
   ],
   "source": [
    "list_family =['heydy', 22, 'ines',54, 'henry',33, 'oscar', 38]\n",
    "print(list_family)\n"
   ]
  },
  {
   "cell_type": "code",
   "execution_count": 24,
   "id": "e7434567",
   "metadata": {},
   "outputs": [
    {
     "name": "stdout",
     "output_type": "stream",
     "text": [
      "ines\n",
      "ines\n"
     ]
    }
   ],
   "source": [
    "# Indexacion \n",
    "print(list_family[2])\n",
    "\n",
    "# Inexacion negativa \n",
    "print(list_family[-6])\n"
   ]
  },
  {
   "cell_type": "code",
   "execution_count": null,
   "id": "3198722e",
   "metadata": {},
   "outputs": [
    {
     "name": "stdout",
     "output_type": "stream",
     "text": [
      "[54, 'henry']\n"
     ]
    }
   ],
   "source": [
    "# slicing [ start: end]\n",
    "#           inclusive: exclusive\n",
    "\n",
    "print(list_family[3:5]) # no toma el ultimo digito \n",
    "print(list_family[:5]) # Desde el inicio hasta la posicion 4\n",
    "print(list_family[5:]) # Desde la posicion 5 hasta el final\n"
   ]
  },
  {
   "cell_type": "markdown",
   "id": "19adc1f5",
   "metadata": {},
   "source": [
    "### **Manipulando Listas**"
   ]
  },
  {
   "cell_type": "code",
   "execution_count": 26,
   "id": "6139a549",
   "metadata": {},
   "outputs": [
    {
     "name": "stdout",
     "output_type": "stream",
     "text": [
      "['heydy', 22, 'ines', 54, 'henry', 33, 'oscar', 38]\n"
     ]
    }
   ],
   "source": [
    "print(list_family)"
   ]
  },
  {
   "cell_type": "code",
   "execution_count": 32,
   "id": "bb189d0e",
   "metadata": {},
   "outputs": [
    {
     "name": "stdout",
     "output_type": "stream",
     "text": [
      "['heydy', 22, 'ines', 54, 'henry', 33, 'oscar', 37]\n",
      "['Mayumy', 24, 'ines', 54, 'henry', 33, 'oscar', 37]\n"
     ]
    }
   ],
   "source": [
    "list_family[-1] = 37 \n",
    "print(list_family)\n",
    "\n",
    "list_family[:2] = ['Mayumy', 24]\n",
    "print(list_family)"
   ]
  },
  {
   "cell_type": "code",
   "execution_count": 36,
   "id": "95dffed5",
   "metadata": {},
   "outputs": [
    {
     "name": "stdout",
     "output_type": "stream",
     "text": [
      "['Mayumy', 24, 'ines', 54, 'henry', 33, 'oscar', 37, 'achuchena', 12]\n",
      "['Mayumy', 24, 'ines', 'henry', 33, 'oscar', 37, 'achuchena', 12]\n"
     ]
    }
   ],
   "source": [
    "# agregar y remover elementos de la lista\n",
    "\n",
    "# Agregar \n",
    "fam_ext = list_family + ['achuchena', 12]\n",
    "print(fam_ext)\n",
    "\n",
    "# eliminar \n",
    "# print(fam_ext[3])\n",
    "\n",
    "del(fam_ext[3]) # indexacion \n",
    "# fam_ext.pop(3)\n",
    "# fam_ext.remove(54)\n",
    "print(fam_ext)"
   ]
  },
  {
   "cell_type": "code",
   "execution_count": 40,
   "id": "2e8ed565",
   "metadata": {},
   "outputs": [
    {
     "name": "stdout",
     "output_type": "stream",
     "text": [
      "['hallway', 11.25, 'Kitchen', 18.0, 'chill zone', 20.0, 'bedroom', 10.75, 'bathroom', 10.5, 'poolhouse', 24.5, 'garage', 15.45]\n",
      "['poolhouse', 24.5]\n",
      "['poolhouse', 24.5]\n",
      "['hallway', 11.25, 'Kitchen', 18.0, 'chill zone', 20.0, 'bedroom', 10.75, 'bathroom', 10.5, 'garage', 15.45]\n"
     ]
    }
   ],
   "source": [
    "# Ejercicios - Eliminar 'poolhouse' y 24.5\n",
    "\n",
    "areas = [\"hallway\", 11.25, 'Kitchen', 18.0,\n",
    "         \"chill zone\", 20.0, 'bedroom', 10.75,\n",
    "         'bathroom', 10.50, \"poolhouse\", 24.5, \n",
    "         \"garage\", 15.45]\n",
    "\n",
    "print(areas)\n",
    "print(areas[-4:-2])\n",
    "print(areas[10:12])\n",
    "del(areas[-4:-2])\n",
    "print(areas)"
   ]
  },
  {
   "cell_type": "code",
   "execution_count": null,
   "id": "5391ba5d",
   "metadata": {},
   "outputs": [
    {
     "name": "stdout",
     "output_type": "stream",
     "text": [
      "['hallway', 11.25, 'Kitchen', 18.0, 'chill zone', 20.0, 'bedroom', 10.75, 'bathroom', 10.5, 'garage', 15.45]\n"
     ]
    }
   ],
   "source": [
    "del (areas[10])\n",
    "print(areas)"
   ]
  },
  {
   "cell_type": "markdown",
   "id": "46e9f1b3",
   "metadata": {},
   "source": [
    "# funciones y paquetes"
   ]
  },
  {
   "cell_type": "markdown",
   "id": "60acd207",
   "metadata": {},
   "source": [
    "## **Funcion**\n",
    "Es una pieza de codigo reutilizable, destinada a resolver una tarea en particular"
   ]
  },
  {
   "cell_type": "code",
   "execution_count": null,
   "id": "6d75448e",
   "metadata": {},
   "outputs": [],
   "source": [
    "list_fam = [22, 54, 33, 38, 36]\n",
    "print(list_fam)\n",
    "print(f'El tamano de la lista es {len(list_fam)}')\n",
    "print(f'El valor maximo de la lista es {max(list_fam)}')"
   ]
  },
  {
   "cell_type": "code",
   "execution_count": 43,
   "id": "f11f2005",
   "metadata": {},
   "outputs": [
    {
     "data": {
      "text/plain": [
       "1.69"
      ]
     },
     "execution_count": 43,
     "metadata": {},
     "output_type": "execute_result"
    }
   ],
   "source": [
    "round(1.689,2)"
   ]
  },
  {
   "cell_type": "code",
   "execution_count": 42,
   "id": "be44eabe",
   "metadata": {},
   "outputs": [
    {
     "name": "stdout",
     "output_type": "stream",
     "text": [
      "Help on built-in function round in module builtins:\n",
      "\n",
      "round(number, ndigits=None)\n",
      "    Round a number to a given precision in decimal digits.\n",
      "\n",
      "    The return value is an integer if ndigits is omitted or None.  Otherwise\n",
      "    the return value has the same type as the number.  ndigits may be negative.\n",
      "\n"
     ]
    }
   ],
   "source": [
    "help(round)"
   ]
  },
  {
   "cell_type": "code",
   "execution_count": null,
   "id": "a2941caf",
   "metadata": {},
   "outputs": [
    {
     "name": "stdout",
     "output_type": "stream",
     "text": [
      "[18.0, 20.0, 51.25]\n",
      "[18.0, 20.0, 51.25]\n",
      "[51.25, 20.0, 18.0]\n"
     ]
    }
   ],
   "source": [
    "first =[51.25, 18.0, 20.0]\n",
    "full_sorted = sorted(first) # Ordenar de forma ascendente\n",
    "full_sorted_asc = sorted(first, reverse=False) # Ascendente\n",
    "full_sorted_desc = sorted(first, reverse=True) # Descendente\n",
    "\n",
    "print(full_sorted)\n",
    "print(full_sorted_asc)\n",
    "print(full_sorted_desc)\n"
   ]
  },
  {
   "cell_type": "markdown",
   "id": "5d9baa1d",
   "metadata": {},
   "source": [
    "### **Metodos**\n",
    "\n",
    "En python todo es objeto. Y cada objeto tiene metodos especificos asociados \n",
    "- Objetos con diferentes tipos pueden tener metodos con el mismo nombre"
   ]
  },
  {
   "cell_type": "code",
   "execution_count": 47,
   "id": "e1363c46",
   "metadata": {},
   "outputs": [
    {
     "name": "stdout",
     "output_type": "stream",
     "text": [
      "indice: 4\n",
      "Contar: 2\n"
     ]
    }
   ],
   "source": [
    "lis_fam = ['heydy',22, 'ines',54, 'henry', 33, 'oscar', 54]\n",
    "\n",
    "print(f\"indice: {lis_fam.index('henry')}\") # Obtine el indice de la lista\n",
    "print(f'Contar: {lis_fam.count(54)}') #Contar cuantas veces aparece algo"
   ]
  },
  {
   "cell_type": "code",
   "execution_count": 48,
   "id": "367c8a9e",
   "metadata": {},
   "outputs": [
    {
     "name": "stdout",
     "output_type": "stream",
     "text": [
      "['heydy', 22, 'ines', 54, 33, 'oscar', 54]\n"
     ]
    }
   ],
   "source": [
    "del(lis_fam[lis_fam.index('henry')])\n",
    "print(lis_fam)"
   ]
  },
  {
   "cell_type": "code",
   "execution_count": 49,
   "id": "7f08374a",
   "metadata": {},
   "outputs": [
    {
     "name": "stdout",
     "output_type": "stream",
     "text": [
      "Mayumi\n"
     ]
    }
   ],
   "source": [
    "name = \"mayumi\"\n",
    "print(name.capitalize())"
   ]
  },
  {
   "cell_type": "code",
   "execution_count": 50,
   "id": "d988d20b",
   "metadata": {},
   "outputs": [
    {
     "name": "stdout",
     "output_type": "stream",
     "text": [
      "Susel\n"
     ]
    }
   ],
   "source": [
    "lista_entornos = ['susel', 'bandon', 'alejandro', 'gabriel']\n",
    "lista_entornos = lista_entornos[0].capitalize()\n",
    "print(lista_entornos)"
   ]
  },
  {
   "cell_type": "code",
   "execution_count": 51,
   "id": "52b7d510",
   "metadata": {},
   "outputs": [
    {
     "name": "stdout",
     "output_type": "stream",
     "text": [
      "ma*umi\n"
     ]
    }
   ],
   "source": [
    "print(name.replace('y', '*'))"
   ]
  },
  {
   "cell_type": "code",
   "execution_count": 52,
   "id": "500929b1",
   "metadata": {},
   "outputs": [
    {
     "data": {
      "text/plain": [
       "'MAYUMI'"
      ]
     },
     "execution_count": 52,
     "metadata": {},
     "output_type": "execute_result"
    }
   ],
   "source": [
    "name.upper()"
   ]
  },
  {
   "cell_type": "code",
   "execution_count": null,
   "id": "3434f83d",
   "metadata": {},
   "outputs": [
    {
     "name": "stdout",
     "output_type": "stream",
     "text": [
      "['heydy', 22, 'ines', 54, 'henry', 33, 'oscar', 54]\n"
     ]
    }
   ],
   "source": [
    "# Pone la lista al reves\n",
    "print(lis_fam)\n",
    "list_fam.reverse()\n",
    "print(lis_fam)"
   ]
  }
 ],
 "metadata": {
  "kernelspec": {
   "display_name": "Python 3",
   "language": "python",
   "name": "python3"
  },
  "language_info": {
   "codemirror_mode": {
    "name": "ipython",
    "version": 3
   },
   "file_extension": ".py",
   "mimetype": "text/x-python",
   "name": "python",
   "nbconvert_exporter": "python",
   "pygments_lexer": "ipython3",
   "version": "3.13.1"
  }
 },
 "nbformat": 4,
 "nbformat_minor": 5
}
