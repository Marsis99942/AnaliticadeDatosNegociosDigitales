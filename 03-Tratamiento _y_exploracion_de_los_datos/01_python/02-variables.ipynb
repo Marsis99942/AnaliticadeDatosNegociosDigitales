{
 "cells": [
  {
   "cell_type": "markdown",
   "id": "28dd12ec",
   "metadata": {},
   "source": [
    "## Ejemplo 2: Variables \n",
    "\n",
    "### 1 objetivos:\n",
    "  - Entender cual es la sintaxis de la asignacion de variables en python \n",
    "  -Aprender la convencion de nombramiento de variables\n",
    "  \n",
    "### 2. Desarrollo \n",
    "\n",
    "Los siguientes nombres son nonbres posibles de variables en python:\n",
    "\n",
    "- var_1\n",
    "- variable_2\n",
    "- variable_dos\n",
    "- variable_nueva_tres\n",
    "- esta_es_una_variable_nueva\n"
   ]
  },
  {
   "cell_type": "markdown",
   "id": "bf80c09e",
   "metadata": {},
   "source": [
    "Los siguientes son nombres invalidos para una variable en python \n",
    "\n",
    "- 1_2\n",
    "- 1_variable\n",
    "- variableDos\n",
    "- EstaEsUnaVariable\n",
    "- Soy una variable\n"
   ]
  },
  {
   "cell_type": "markdown",
   "id": "2618f859",
   "metadata": {},
   "source": [
    "Asignemos unas cuantas variables:"
   ]
  },
  {
   "cell_type": "code",
   "execution_count": 2,
   "id": "b99bb921",
   "metadata": {},
   "outputs": [],
   "source": [
    "var_1 = 3 \n",
    "var_2 = 6 \n",
    "variable_3 = 10 \n",
    "variable_nueva_4 = 20 "
   ]
  },
  {
   "cell_type": "markdown",
   "id": "82e1f0d5",
   "metadata": {},
   "source": [
    "Podemos acceder a su contenido con tan solo escribir el nombre de la variable en una celda y correrla"
   ]
  },
  {
   "cell_type": "code",
   "execution_count": 3,
   "id": "2dd9a0ea",
   "metadata": {},
   "outputs": [
    {
     "data": {
      "text/plain": [
       "20"
      ]
     },
     "execution_count": 3,
     "metadata": {},
     "output_type": "execute_result"
    }
   ],
   "source": [
    "variable_nueva_4"
   ]
  },
  {
   "cell_type": "markdown",
   "id": "e10fe6ee",
   "metadata": {},
   "source": [
    "Si intento llmar una variable que no se ha asignado o no existe, JN va a lanzar un error"
   ]
  },
  {
   "cell_type": "code",
   "execution_count": 4,
   "id": "337f7d03",
   "metadata": {},
   "outputs": [
    {
     "ename": "NameError",
     "evalue": "name 'var_5' is not defined",
     "output_type": "error",
     "traceback": [
      "\u001b[31m---------------------------------------------------------------------------\u001b[39m",
      "\u001b[31mNameError\u001b[39m                                 Traceback (most recent call last)",
      "\u001b[36mCell\u001b[39m\u001b[36m \u001b[39m\u001b[32mIn[4]\u001b[39m\u001b[32m, line 1\u001b[39m\n\u001b[32m----> \u001b[39m\u001b[32m1\u001b[39m \u001b[43mvar_5\u001b[49m\n",
      "\u001b[31mNameError\u001b[39m: name 'var_5' is not defined"
     ]
    }
   ],
   "source": [
    "var_5"
   ]
  },
  {
   "cell_type": "markdown",
   "id": "c130da4b",
   "metadata": {},
   "source": [
    "De igual manera, si se escribe una asignacion, pero no se corre la celda, esa variable no estara  "
   ]
  },
  {
   "cell_type": "code",
   "execution_count": 5,
   "id": "d368c7c8",
   "metadata": {},
   "outputs": [],
   "source": [
    "var_2 = 89"
   ]
  },
  {
   "cell_type": "code",
   "execution_count": 6,
   "id": "14ca49d0",
   "metadata": {},
   "outputs": [
    {
     "data": {
      "text/plain": [
       "89"
      ]
     },
     "execution_count": 6,
     "metadata": {},
     "output_type": "execute_result"
    }
   ],
   "source": [
    "var_2"
   ]
  },
  {
   "cell_type": "markdown",
   "id": "1d06e821",
   "metadata": {},
   "source": [
    "### Reto 1: Variables\n",
    "\n",
    "### 1. Objetivos:\n",
    "   -Practicar convercion de nombramiento y asignacion de variables"
   ]
  },
  {
   "cell_type": "code",
   "execution_count": 7,
   "id": "d033074d",
   "metadata": {},
   "outputs": [],
   "source": [
    "# Asigna el numero 12345 a una variable llamada locochona \n",
    "\n",
    "locochona = 12345 \n",
    "\n",
    "# Asigna el numero 14.567 a la variable var decimal \n",
    "\n",
    "var_decimal = 14.567\n",
    "\n",
    "# Asigna un numero cualquiera a una variable que tenga cinco palabras en su nombre \n",
    "\n",
    "uno_dos_tres_cuatro_cinco = True\n",
    "# Asigna cualquier numero a una variable que incluye palabras y numeros en su nombre. \n",
    "\n",
    "uno_dos_123 = 'Hola bb'\n"
   ]
  }
 ],
 "metadata": {
  "kernelspec": {
   "display_name": ".venv",
   "language": "python",
   "name": "python3"
  },
  "language_info": {
   "codemirror_mode": {
    "name": "ipython",
    "version": 3
   },
   "file_extension": ".py",
   "mimetype": "text/x-python",
   "name": "python",
   "nbconvert_exporter": "python",
   "pygments_lexer": "ipython3",
   "version": "3.13.1"
  }
 },
 "nbformat": 4,
 "nbformat_minor": 5
}
