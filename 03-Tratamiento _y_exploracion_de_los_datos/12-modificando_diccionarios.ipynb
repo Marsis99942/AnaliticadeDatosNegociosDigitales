{
 "cells": [
  {
   "cell_type": "markdown",
   "id": "9003e15d",
   "metadata": {},
   "source": [
    "# Modificando diccionarios "
   ]
  },
  {
   "cell_type": "markdown",
   "id": "4d1edd6c",
   "metadata": {},
   "source": [
    "## 1. Objetivos\n",
    " - Practicar los 3 metodos basicos de modificacion de diccionarios: **Agregar datos, modificar datos y borrar llaves**"
   ]
  },
  {
   "cell_type": "markdown",
   "id": "c83c7c8c",
   "metadata": {},
   "source": [
    "## 2. Desarrollo\n",
    "\n",
    "Tenemos 3 maneras basicas de modificar los diccionarios\n",
    "\n",
    "---"
   ]
  },
  {
   "cell_type": "markdown",
   "id": "6ab8337c",
   "metadata": {},
   "source": [
    "### Agregar Datos \n",
    "Para agregar datos a un diccionario ya existente, basta con llamar la llave que queremos agregar y asignar un valor."
   ]
  },
  {
   "cell_type": "code",
   "execution_count": 1,
   "id": "7db2dc28",
   "metadata": {},
   "outputs": [],
   "source": [
    "from pprint import pprint\n",
    "# import pandas as pd "
   ]
  },
  {
   "cell_type": "code",
   "execution_count": 3,
   "id": "338caf19",
   "metadata": {},
   "outputs": [
    {
     "name": "stdout",
     "output_type": "stream",
     "text": [
      "{'nombre': 'Maluma', 'tel': 556789836, 'dir': {'colonia': 'El 61', 'calle': 'pirineos', 'num': 69, 'cp': 45450}}\n"
     ]
    }
   ],
   "source": [
    "info_de_contacto = {\n",
    "'nombre': \"Maluma\", \n",
    "'tel': 556789836, \n",
    "'dir':{\n",
    "    'colonia': 'El 61', \n",
    "    'calle': 'pirineos',\n",
    "    'num':69,\n",
    "    'cp':45450\n",
    "}\n",
    "}\n",
    "\n",
    "print (info_de_contacto)"
   ]
  },
  {
   "cell_type": "code",
   "execution_count": 4,
   "id": "32e16260",
   "metadata": {},
   "outputs": [
    {
     "name": "stdout",
     "output_type": "stream",
     "text": [
      "{'dir': {'calle': 'pirineos', 'colonia': 'El 61', 'cp': 45450, 'num': 69},\n",
      " 'nombre': 'Maluma',\n",
      " 'tel': 556789836}\n"
     ]
    }
   ],
   "source": [
    "pprint(info_de_contacto)"
   ]
  },
  {
   "cell_type": "code",
   "execution_count": 5,
   "id": "4252dcd1",
   "metadata": {},
   "outputs": [],
   "source": [
    "info_de_contacto['email'] = 'Maluma_bb@miaw.com'"
   ]
  },
  {
   "cell_type": "code",
   "execution_count": 6,
   "id": "c7138b3c",
   "metadata": {},
   "outputs": [
    {
     "name": "stdout",
     "output_type": "stream",
     "text": [
      "{'dir': {'calle': 'pirineos', 'colonia': 'El 61', 'cp': 45450, 'num': 69},\n",
      " 'email': 'Maluma_bb@miaw.com',\n",
      " 'nombre': 'Maluma',\n",
      " 'tel': 556789836}\n"
     ]
    }
   ],
   "source": [
    "pprint(info_de_contacto)"
   ]
  },
  {
   "cell_type": "markdown",
   "id": "91529923",
   "metadata": {},
   "source": [
    "## Modificar pares llave-valor existentes\n",
    "\n",
    "Para modificar un par llave-valor ya existente, basta con reasignar a una llave de nuestro dicccionario el nuevo valor que queremos agregar. Por ejemplo, imaginemos que esta persona cambio de direccion: "
   ]
  },
  {
   "cell_type": "code",
   "execution_count": 8,
   "id": "6a155a75",
   "metadata": {},
   "outputs": [
    {
     "name": "stdout",
     "output_type": "stream",
     "text": [
      "{'dir': {'calle': 'progreso', 'colonia': 'Escandalo', 'cp': 11800, 'num': 189},\n",
      " 'email': 'Maluma_bb@miaw.com',\n",
      " 'nombre': 'Maluma',\n",
      " 'tel': 556789836}\n"
     ]
    }
   ],
   "source": [
    "info_de_contacto['dir'] ={\n",
    "    'colonia': 'Escandalo', \n",
    "    'calle': 'progreso',\n",
    "    'num': 189,\n",
    "    'cp': 11800, \n",
    "}\n",
    "\n",
    "pprint(info_de_contacto)"
   ]
  },
  {
   "cell_type": "code",
   "execution_count": 9,
   "id": "54bf46fd",
   "metadata": {},
   "outputs": [],
   "source": [
    "info_de_contacto['dir']['colonia'] = 'SlateSiPuedes'"
   ]
  },
  {
   "cell_type": "code",
   "execution_count": 10,
   "id": "1dc0da10",
   "metadata": {},
   "outputs": [
    {
     "name": "stdout",
     "output_type": "stream",
     "text": [
      "{'dir': {'calle': 'progreso',\n",
      "         'colonia': 'SlateSiPuedes',\n",
      "         'cp': 11800,\n",
      "         'num': 189},\n",
      " 'email': 'Maluma_bb@miaw.com',\n",
      " 'nombre': 'Maluma',\n",
      " 'tel': 556789836}\n"
     ]
    }
   ],
   "source": [
    "pprint(info_de_contacto)"
   ]
  },
  {
   "cell_type": "markdown",
   "id": "f060529b",
   "metadata": {},
   "source": [
    "Podemos incluso modificar estructuras de datos dentro de nuestro diccionario. Por ejemplo, Que tal si hubo un error al agregar la nueva direccion y ahora tenemos que cambiar solamente el numero:"
   ]
  },
  {
   "cell_type": "code",
   "execution_count": 12,
   "id": "354f5769",
   "metadata": {},
   "outputs": [
    {
     "name": "stdout",
     "output_type": "stream",
     "text": [
      "{'dir': {'calle': 'progreso',\n",
      "         'colonia': 'SlateSiPuedes',\n",
      "         'cp': 11800,\n",
      "         'num': 666},\n",
      " 'email': 'Maluma_bb@miaw.com',\n",
      " 'nombre': 'Maluma',\n",
      " 'tel': 556789836}\n"
     ]
    }
   ],
   "source": [
    "info_de_contacto['dir']['num'] = 666\n",
    "pprint(info_de_contacto)"
   ]
  },
  {
   "cell_type": "markdown",
   "id": "f1fa5498",
   "metadata": {},
   "source": [
    "## Eliminando datos \n",
    "Para eliminar datos se puede usar el metodo `pop`. Como se recordara el nombre de este metodo es identico al metodo para eliminar elementos de una lista, la diferencia es que el metodo `pop` de las listas recibe indices como argumentos, el metodo `pop` de diccionarios recibe llaves como argumentos:"
   ]
  },
  {
   "cell_type": "code",
   "execution_count": 13,
   "id": "c8f28aa6",
   "metadata": {},
   "outputs": [
    {
     "name": "stdout",
     "output_type": "stream",
     "text": [
      "{'dir': {'calle': 'progreso',\n",
      "         'colonia': 'SlateSiPuedes',\n",
      "         'cp': 11800,\n",
      "         'num': 666},\n",
      " 'email': 'Maluma_bb@miaw.com',\n",
      " 'nombre': 'Maluma'}\n"
     ]
    }
   ],
   "source": [
    "info_de_contacto.pop('tel')\n",
    "pprint(info_de_contacto)"
   ]
  }
 ],
 "metadata": {
  "kernelspec": {
   "display_name": "Python 3",
   "language": "python",
   "name": "python3"
  },
  "language_info": {
   "codemirror_mode": {
    "name": "ipython",
    "version": 3
   },
   "file_extension": ".py",
   "mimetype": "text/x-python",
   "name": "python",
   "nbconvert_exporter": "python",
   "pygments_lexer": "ipython3",
   "version": "3.13.1"
  }
 },
 "nbformat": 4,
 "nbformat_minor": 5
}
