{
 "cells": [
  {
   "cell_type": "markdown",
   "id": "2ce1a385",
   "metadata": {},
   "source": [
    "Crear y accesar a los diccionarios"
   ]
  },
  {
   "cell_type": "markdown",
   "id": "ab0ef218",
   "metadata": {},
   "source": [
    "## Objetivos\n",
    " - Aprender a crear diccionarios con pares llaves-valor\n",
    " - Aprender a accesar a los valores guardados \n",
    "\n",
    " --- "
   ]
  },
  {
   "cell_type": "markdown",
   "id": "bcfced2e",
   "metadata": {},
   "source": [
    "## Desarrollo:\n",
    "\n",
    "Los diccionarios se definen usando (`{}`)"
   ]
  },
  {
   "cell_type": "code",
   "execution_count": null,
   "id": "3e68459c",
   "metadata": {},
   "outputs": [],
   "source": [
    "diccionario_1 ={}"
   ]
  },
  {
   "cell_type": "markdown",
   "id": "7e4b8eda",
   "metadata": {},
   "source": [
    "diccionario_1 ya es un diccionario. Solo que esta vacio. Para incluir datos dentro de un diccionario, tenemos que agregar pares llave-valor dentro de las llaves ({}),. Cada par llave-valor se separa con una (,):"
   ]
  },
  {
   "cell_type": "code",
   "execution_count": 2,
   "id": "d4bffd1f",
   "metadata": {},
   "outputs": [],
   "source": [
    "diccionario_2 = {\n",
    "    \"llave_1\":\"valor_1\",\n",
    "    \"llave_2\": 'Valor_2',\n",
    "    \"llave_3\": 'Valor_3',\n",
    "    \"llave_4\": 'Valor_4',\n",
    "}"
   ]
  },
  {
   "cell_type": "markdown",
   "id": "5a25140e",
   "metadata": {},
   "source": [
    "Nuestras llaves pueden ser tanto `String` como `int`(pueden ser otras cosas pero estos son los mas comunes)"
   ]
  },
  {
   "cell_type": "code",
   "execution_count": 3,
   "id": "8c8f7a64",
   "metadata": {},
   "outputs": [],
   "source": [
    "diccionario_3 = {\n",
    "    1:\"Uno\",\n",
    "    2:\"Dos\",\n",
    "    3:\"Tres\",\n",
    "    4:\"Cuatro\",\n",
    "}"
   ]
  },
  {
   "cell_type": "markdown",
   "id": "631f3a5e",
   "metadata": {},
   "source": [
    "Nuestros valores pueden ser cualquier tipo de dato que se conozca hasta este momento."
   ]
  },
  {
   "cell_type": "code",
   "execution_count": 4,
   "id": "679e9ff9",
   "metadata": {},
   "outputs": [],
   "source": [
    "dicccionario_4 = {\n",
    "    'int': 123, \n",
    "    'float':23.56, \n",
    "    'string':'hola',\n",
    "    \"boolean\": True,\n",
    "    'lista':[1,2,3,4],\n",
    "    \"diccionario\": {\n",
    "        1:'uno',\n",
    "        2:'dos'\n",
    "    }\n",
    "}"
   ]
  },
  {
   "cell_type": "markdown",
   "id": "f9e519b4",
   "metadata": {},
   "source": [
    "Acceder a un diccionario es tan facil como escribir el nombre del diccionario, agregar corchetes (`[]`) nombre de la llave que quieres acceder. Por obvias razones, un diccionario no puede tener mas de una llave con el mismo nombre. Si tenemos otras estructuras de datos dentro de nuestro diccionario, podemos acceder a los elementos dentro de ellas, despues de haber accedido primero a toda la estructura de datos:"
   ]
  },
  {
   "cell_type": "code",
   "execution_count": 6,
   "id": "08ac603c",
   "metadata": {},
   "outputs": [
    {
     "name": "stdout",
     "output_type": "stream",
     "text": [
      "23.56\n",
      "True\n",
      "[1, 2, 3, 4]\n",
      "3\n",
      "4\n"
     ]
    }
   ],
   "source": [
    "print(dicccionario_4['float'])\n",
    "print(dicccionario_4[\"boolean\"])\n",
    "print(dicccionario_4['lista'])\n",
    "print(dicccionario_4['lista'][2])\n",
    "print(dicccionario_4['lista'][3])"
   ]
  }
 ],
 "metadata": {
  "kernelspec": {
   "display_name": "Python 3",
   "language": "python",
   "name": "python3"
  },
  "language_info": {
   "codemirror_mode": {
    "name": "ipython",
    "version": 3
   },
   "file_extension": ".py",
   "mimetype": "text/x-python",
   "name": "python",
   "nbconvert_exporter": "python",
   "pygments_lexer": "ipython3",
   "version": "3.13.1"
  }
 },
 "nbformat": 4,
 "nbformat_minor": 5
}
