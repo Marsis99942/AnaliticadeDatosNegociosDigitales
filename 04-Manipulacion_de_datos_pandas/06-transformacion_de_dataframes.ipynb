{
 "cells": [
  {
   "cell_type": "markdown",
   "id": "34e4cee9",
   "metadata": {},
   "source": [
    "\n",
    "### Transformacion de dataframes"
   ]
  },
  {
   "cell_type": "markdown",
   "id": "99d35482",
   "metadata": {},
   "source": [
    "## Inspeccionar un Dataframe"
   ]
  },
  {
   "cell_type": "code",
   "execution_count": 1,
   "id": "16c8ead4",
   "metadata": {},
   "outputs": [],
   "source": [
    "# Importa pandas \n",
    "import pandas as pd"
   ]
  },
  {
   "cell_type": "code",
   "execution_count": 2,
   "id": "1014dddc",
   "metadata": {},
   "outputs": [],
   "source": [
    "homelessness = pd.read_csv('./Datasets/homelessness.csv', index_col=0 )"
   ]
  },
  {
   "cell_type": "markdown",
   "id": "9cc18b48",
   "metadata": {},
   "source": [
    "# Imprimir los primeros datos con head \n"
   ]
  },
  {
   "cell_type": "code",
   "execution_count": 3,
   "id": "9008b2ad",
   "metadata": {},
   "outputs": [
    {
     "name": "stdout",
     "output_type": "stream",
     "text": [
      "<class 'pandas.core.frame.DataFrame'>\n",
      "Index: 51 entries, 0 to 50\n",
      "Data columns (total 5 columns):\n",
      " #   Column          Non-Null Count  Dtype  \n",
      "---  ------          --------------  -----  \n",
      " 0   region          51 non-null     object \n",
      " 1   state           51 non-null     object \n",
      " 2   individuals     51 non-null     float64\n",
      " 3   family_members  51 non-null     float64\n",
      " 4   state_pop       51 non-null     int64  \n",
      "dtypes: float64(2), int64(1), object(2)\n",
      "memory usage: 2.4+ KB\n",
      "None\n"
     ]
    }
   ],
   "source": [
    "# Imprimir informacion acerca de homelessness\n",
    "print(homelessness.info())"
   ]
  },
  {
   "cell_type": "code",
   "execution_count": 4,
   "id": "ade5644a",
   "metadata": {},
   "outputs": [
    {
     "name": "stdout",
     "output_type": "stream",
     "text": [
      "(51, 5)\n"
     ]
    }
   ],
   "source": [
    "# Imprimir el tamano de homelenessess\n",
    "print(homelessness.shape)"
   ]
  },
  {
   "cell_type": "code",
   "execution_count": 5,
   "id": "bc5803c3",
   "metadata": {},
   "outputs": [
    {
     "name": "stdout",
     "output_type": "stream",
     "text": [
      "         individuals  family_members     state_pop\n",
      "count      51.000000       51.000000  5.100000e+01\n",
      "mean     7225.784314     3504.882353  6.405637e+06\n",
      "std     15991.025083     7805.411811  7.327258e+06\n",
      "min       434.000000       75.000000  5.776010e+05\n",
      "25%      1446.500000      592.000000  1.777414e+06\n",
      "50%      3082.000000     1482.000000  4.461153e+06\n",
      "75%      6781.500000     3196.000000  7.340946e+06\n",
      "max    109008.000000    52070.000000  3.946159e+07\n"
     ]
    }
   ],
   "source": [
    "# print la descripcion de homelenessess\n",
    "print(homelessness.describe())"
   ]
  },
  {
   "cell_type": "markdown",
   "id": "5d0a416a",
   "metadata": {},
   "source": [
    "## Partes de un dataframe"
   ]
  },
  {
   "cell_type": "code",
   "execution_count": 7,
   "id": "fcb7dc22",
   "metadata": {},
   "outputs": [
    {
     "name": "stdout",
     "output_type": "stream",
     "text": [
      "[['East South Central' 'Alabama' 2570.0 864.0 4887681]\n",
      " ['Pacific' 'Alaska' 1434.0 582.0 735139]\n",
      " ['Mountain' 'Arizona' 7259.0 2606.0 7158024]\n",
      " ['West South Central' 'Arkansas' 2280.0 432.0 3009733]\n",
      " ['Pacific' 'California' 109008.0 20964.0 39461588]\n",
      " ['Mountain' 'Colorado' 7607.0 3250.0 5691287]\n",
      " ['New England' 'Connecticut' 2280.0 1696.0 3571520]\n",
      " ['South Atlantic' 'Delaware' 708.0 374.0 965479]\n",
      " ['South Atlantic' 'District of Columbia' 3770.0 3134.0 701547]\n",
      " ['South Atlantic' 'Florida' 21443.0 9587.0 21244317]\n",
      " ['South Atlantic' 'Georgia' 6943.0 2556.0 10511131]\n",
      " ['Pacific' 'Hawaii' 4131.0 2399.0 1420593]\n",
      " ['Mountain' 'Idaho' 1297.0 715.0 1750536]\n",
      " ['East North Central' 'Illinois' 6752.0 3891.0 12723071]\n",
      " ['East North Central' 'Indiana' 3776.0 1482.0 6695497]\n",
      " ['West North Central' 'Iowa' 1711.0 1038.0 3148618]\n",
      " ['West North Central' 'Kansas' 1443.0 773.0 2911359]\n",
      " ['East South Central' 'Kentucky' 2735.0 953.0 4461153]\n",
      " ['West South Central' 'Louisiana' 2540.0 519.0 4659690]\n",
      " ['New England' 'Maine' 1450.0 1066.0 1339057]\n",
      " ['South Atlantic' 'Maryland' 4914.0 2230.0 6035802]\n",
      " ['New England' 'Massachusetts' 6811.0 13257.0 6882635]\n",
      " ['East North Central' 'Michigan' 5209.0 3142.0 9984072]\n",
      " ['West North Central' 'Minnesota' 3993.0 3250.0 5606249]\n",
      " ['East South Central' 'Mississippi' 1024.0 328.0 2981020]\n",
      " ['West North Central' 'Missouri' 3776.0 2107.0 6121623]\n",
      " ['Mountain' 'Montana' 983.0 422.0 1060665]\n",
      " ['West North Central' 'Nebraska' 1745.0 676.0 1925614]\n",
      " ['Mountain' 'Nevada' 7058.0 486.0 3027341]\n",
      " ['New England' 'New Hampshire' 835.0 615.0 1353465]\n",
      " ['Mid-Atlantic' 'New Jersey' 6048.0 3350.0 8886025]\n",
      " ['Mountain' 'New Mexico' 1949.0 602.0 2092741]\n",
      " ['Mid-Atlantic' 'New York' 39827.0 52070.0 19530351]\n",
      " ['South Atlantic' 'North Carolina' 6451.0 2817.0 10381615]\n",
      " ['West North Central' 'North Dakota' 467.0 75.0 758080]\n",
      " ['East North Central' 'Ohio' 6929.0 3320.0 11676341]\n",
      " ['West South Central' 'Oklahoma' 2823.0 1048.0 3940235]\n",
      " ['Pacific' 'Oregon' 11139.0 3337.0 4181886]\n",
      " ['Mid-Atlantic' 'Pennsylvania' 8163.0 5349.0 12800922]\n",
      " ['New England' 'Rhode Island' 747.0 354.0 1058287]\n",
      " ['South Atlantic' 'South Carolina' 3082.0 851.0 5084156]\n",
      " ['West North Central' 'South Dakota' 836.0 323.0 878698]\n",
      " ['East South Central' 'Tennessee' 6139.0 1744.0 6771631]\n",
      " ['West South Central' 'Texas' 19199.0 6111.0 28628666]\n",
      " ['Mountain' 'Utah' 1904.0 972.0 3153550]\n",
      " ['New England' 'Vermont' 780.0 511.0 624358]\n",
      " ['South Atlantic' 'Virginia' 3928.0 2047.0 8501286]\n",
      " ['Pacific' 'Washington' 16424.0 5880.0 7523869]\n",
      " ['South Atlantic' 'West Virginia' 1021.0 222.0 1804291]\n",
      " ['East North Central' 'Wisconsin' 2740.0 2167.0 5807406]\n",
      " ['Mountain' 'Wyoming' 434.0 205.0 577601]]\n"
     ]
    }
   ],
   "source": [
    "# print la descripcion de homelenessess\n",
    "print(homelessness.values)"
   ]
  },
  {
   "cell_type": "code",
   "execution_count": 8,
   "id": "ddd31a9c",
   "metadata": {},
   "outputs": [
    {
     "name": "stdout",
     "output_type": "stream",
     "text": [
      "Index(['region', 'state', 'individuals', 'family_members', 'state_pop'], dtype='object')\n"
     ]
    }
   ],
   "source": [
    "# Imprimir los indices de las columnas de homelenessess\n",
    "print(homelessness.columns)"
   ]
  },
  {
   "cell_type": "code",
   "execution_count": 9,
   "id": "94ccaa2a",
   "metadata": {},
   "outputs": [
    {
     "name": "stdout",
     "output_type": "stream",
     "text": [
      "Index([ 0,  1,  2,  3,  4,  5,  6,  7,  8,  9, 10, 11, 12, 13, 14, 15, 16, 17,\n",
      "       18, 19, 20, 21, 22, 23, 24, 25, 26, 27, 28, 29, 30, 31, 32, 33, 34, 35,\n",
      "       36, 37, 38, 39, 40, 41, 42, 43, 44, 45, 46, 47, 48, 49, 50],\n",
      "      dtype='int64')\n"
     ]
    }
   ],
   "source": [
    "# Imprimir los indices de las filas de homelenessess\n",
    "print(homelessness.index)"
   ]
  },
  {
   "cell_type": "markdown",
   "id": "09828d32",
   "metadata": {},
   "source": [
    "## Ordenar filas \n",
    "\n",
    "| Ordenar en ...| Sintaxis\n",
    "|---------------|------------------------------|\n",
    "| una columna   | `df.sort_values(\"bread\")`    |\n",
    "| varias columnas   | `df.sort_values([\"bread\", \"weight_kg\"])` |\n",
    "\n",
    "1. Ordenar homelessness por el numero de personas sin hogar de la columna individuals, de menor a mayor y guardarlo como homelessness_ind\n",
    "2. Ordena homelenessess por el numero de personas sin hogar family_memebers en orden descendente y guardarlo como homelessness_fam\n",
    "3. Ordena homelessness primero por region (ascendente) y luego por numero de miembros de la familia (descendente), guardar como homelessness_reg_fam\n"
   ]
  },
  {
   "cell_type": "code",
   "execution_count": 11,
   "id": "66345e2d",
   "metadata": {},
   "outputs": [
    {
     "name": "stdout",
     "output_type": "stream",
     "text": [
      "                region          state  individuals  family_members  state_pop\n",
      "50            Mountain        Wyoming        434.0           205.0     577601\n",
      "34  West North Central   North Dakota        467.0            75.0     758080\n",
      "7       South Atlantic       Delaware        708.0           374.0     965479\n",
      "39         New England   Rhode Island        747.0           354.0    1058287\n",
      "45         New England        Vermont        780.0           511.0     624358\n",
      "29         New England  New Hampshire        835.0           615.0    1353465\n",
      "41  West North Central   South Dakota        836.0           323.0     878698\n",
      "26            Mountain        Montana        983.0           422.0    1060665\n",
      "48      South Atlantic  West Virginia       1021.0           222.0    1804291\n",
      "24  East South Central    Mississippi       1024.0           328.0    2981020\n"
     ]
    }
   ],
   "source": [
    "homelessness_ind = homelessness.sort_values ('individuals')\n",
    "print(homelessness_ind.head(10))"
   ]
  },
  {
   "cell_type": "code",
   "execution_count": 12,
   "id": "01a3e8b9",
   "metadata": {},
   "outputs": [
    {
     "name": "stdout",
     "output_type": "stream",
     "text": [
      "                region         state  individuals  family_members  state_pop\n",
      "13  East North Central      Illinois       6752.0          3891.0   12723071\n",
      "35  East North Central          Ohio       6929.0          3320.0   11676341\n",
      "22  East North Central      Michigan       5209.0          3142.0    9984072\n",
      "49  East North Central     Wisconsin       2740.0          2167.0    5807406\n",
      "14  East North Central       Indiana       3776.0          1482.0    6695497\n",
      "42  East South Central     Tennessee       6139.0          1744.0    6771631\n",
      "17  East South Central      Kentucky       2735.0           953.0    4461153\n",
      "0   East South Central       Alabama       2570.0           864.0    4887681\n",
      "24  East South Central   Mississippi       1024.0           328.0    2981020\n",
      "32        Mid-Atlantic      New York      39827.0         52070.0   19530351\n",
      "38        Mid-Atlantic  Pennsylvania       8163.0          5349.0   12800922\n",
      "30        Mid-Atlantic    New Jersey       6048.0          3350.0    8886025\n",
      "5             Mountain      Colorado       7607.0          3250.0    5691287\n",
      "2             Mountain       Arizona       7259.0          2606.0    7158024\n",
      "44            Mountain          Utah       1904.0           972.0    3153550\n",
      "12            Mountain         Idaho       1297.0           715.0    1750536\n",
      "31            Mountain    New Mexico       1949.0           602.0    2092741\n",
      "28            Mountain        Nevada       7058.0           486.0    3027341\n",
      "26            Mountain       Montana        983.0           422.0    1060665\n",
      "50            Mountain       Wyoming        434.0           205.0     577601\n"
     ]
    }
   ],
   "source": [
    "# Ordenar homelessness por family_members de forma descendente\n",
    "homelessness_reg_fam = homelessness.sort_values(['region', 'family_members'], ascending= [True, False])\n",
    "print(homelessness_reg_fam.head(20))"
   ]
  },
  {
   "cell_type": "markdown",
   "id": "8d652487",
   "metadata": {},
   "source": [
    " ## Subconjuntos de columnas \n",
    "\n",
    " Hay muchas formas de subconjuntar un Dataframe, quiza la mas comun sea utilizar operadores relacionales para devolver true o false por cada fila y luego pasarlo entre corchetes. \n",
    " `dogs[dogs['height_cm'] > 60]`\n",
    " `dogs[dogs['color'] > \"tan\"]`\n",
    "\n",
    " Puedes filtrar por varias condiciones  a la vez utilizando el operador &\n",
    "\n",
    " `dogs[(dogs['height_cm'] > 60) & (dogs['color'] == 'tan')]`\n",
    "\n",
    "**Instrucciones**\n",
    "1. Filtra homelessness para los casos en los que el numero del individuals sea superior a diez mil, asignandolos a `ind_gt_10k`. Visualizar el resultado \n",
    "2. Filtra homelessness para los casos en los que la region es Mountain, asignando a montauntain_reg. Visualiza el resultado \n",
    "3. Filtra homelessness para los casos en los que el numero de family_members sea inferior a mil y la region sea 'Pacifico', asignandolo a fam_lt_1k_pac. Visualizar el resultado"
   ]
  },
  {
   "cell_type": "code",
   "execution_count": 15,
   "id": "52948ec7",
   "metadata": {},
   "outputs": [
    {
     "name": "stdout",
     "output_type": "stream",
     "text": [
      "                region       state  individuals  family_members  state_pop\n",
      "4              Pacific  California     109008.0         20964.0   39461588\n",
      "9       South Atlantic     Florida      21443.0          9587.0   21244317\n",
      "32        Mid-Atlantic    New York      39827.0         52070.0   19530351\n",
      "37             Pacific      Oregon      11139.0          3337.0    4181886\n",
      "43  West South Central       Texas      19199.0          6111.0   28628666\n",
      "47             Pacific  Washington      16424.0          5880.0    7523869\n"
     ]
    }
   ],
   "source": [
    "ind_gt_10k = homelessness[homelessness['individuals'] > 10000]\n",
    "print(ind_gt_10k.head(10))"
   ]
  },
  {
   "cell_type": "code",
   "execution_count": 18,
   "id": "d748650f",
   "metadata": {},
   "outputs": [
    {
     "name": "stdout",
     "output_type": "stream",
     "text": [
      "      region     state  individuals  family_members  state_pop\n",
      "2   Mountain   Arizona       7259.0          2606.0    7158024\n",
      "5   Mountain  Colorado       7607.0          3250.0    5691287\n",
      "12  Mountain     Idaho       1297.0           715.0    1750536\n",
      "26  Mountain   Montana        983.0           422.0    1060665\n",
      "28  Mountain    Nevada       7058.0           486.0    3027341\n"
     ]
    }
   ],
   "source": [
    "mountain_reg = homelessness[homelessness['region'] == 'Mountain']\n",
    "mountain_reg.sort_values('region', ascending=True)\n",
    "print(mountain_reg.head())"
   ]
  },
  {
   "cell_type": "code",
   "execution_count": null,
   "id": "d8e588a5",
   "metadata": {},
   "outputs": [],
   "source": [
    "fam_lt_1k_pac = homelessness[(homelessness['family_members']< 10000) & (homelessness['region'] == )]\n",
    "print(fam_lt_1k_pac)"
   ]
  },
  {
   "cell_type": "markdown",
   "id": "4339584c",
   "metadata": {},
   "source": [
    "# Subconju8nto de filas por variantes categoricas \n",
    "\n",
    "Utiliza el metodo `.isin()` que permitira abordar el problema escribiendo en una sola condicion en lugar de varios. Por que para segmentar variables categoricas se utiliza el operador \n",
    "\n",
    "`colors =['blue', 'black', 'orange']`\n",
    "`condition  = dogs['color'].isin(colors)`\n",
    "`dogs['condition']`\n",
    "\n",
    "**Instrucciones**\n",
    "\n",
    "1. Filtra homelessness para los casos en los que el censo para los esatdos de california, Arizona, Nevada y utha, asignando a mojave_homelessness"
   ]
  },
  {
   "cell_type": "code",
   "execution_count": 19,
   "id": "3d2a42fa",
   "metadata": {},
   "outputs": [
    {
     "name": "stdout",
     "output_type": "stream",
     "text": [
      "      region    state  individuals  family_members  state_pop\n",
      "2   Mountain  Arizona       7259.0          2606.0    7158024\n",
      "28  Mountain   Nevada       7058.0           486.0    3027341\n",
      "44  Mountain     Utah       1904.0           972.0    3153550\n"
     ]
    }
   ],
   "source": [
    "canu = ['california', 'Arizona', 'Nevada', 'Utah']\n",
    "\n",
    "mojave_homelessness = homelessness[homelessness['state'].isin(canu)]\n",
    "print (mojave_homelessness)"
   ]
  }
 ],
 "metadata": {
  "kernelspec": {
   "display_name": "Python 3",
   "language": "python",
   "name": "python3"
  },
  "language_info": {
   "codemirror_mode": {
    "name": "ipython",
    "version": 3
   },
   "file_extension": ".py",
   "mimetype": "text/x-python",
   "name": "python",
   "nbconvert_exporter": "python",
   "pygments_lexer": "ipython3",
   "version": "3.13.1"
  }
 },
 "nbformat": 4,
 "nbformat_minor": 5
}
